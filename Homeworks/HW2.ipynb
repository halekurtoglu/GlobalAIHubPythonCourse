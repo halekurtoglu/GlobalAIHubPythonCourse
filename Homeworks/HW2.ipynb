{
 "cells": [
  {
   "cell_type": "code",
   "execution_count": 1,
   "metadata": {},
   "outputs": [
    {
     "name": "stdout",
     "output_type": "stream",
     "text": [
      "Number of students:5\n",
      "Student 1\n",
      "Name and Surname:ÖMER CENGİZ\n",
      "midterm:90\n",
      "final:95\n",
      "homework:100\n",
      "Student 2\n",
      "Name and Surname:ŞEVVAL KOZAN\n",
      "midterm:78\n",
      "final:92\n",
      "homework:89\n",
      "Student 3\n",
      "Name and Surname:SUDE NURSAL\n",
      "midterm:60\n",
      "final:50\n",
      "homework:80\n",
      "Student 4\n",
      "Name and Surname:SİMAY GÜNGÖR\n",
      "midterm:67\n",
      "final:43\n",
      "homework:90\n",
      "Student 5\n",
      "Name and Surname:SELİM KAYA\n",
      "midterm:80\n",
      "final:90\n",
      "homework:70\n",
      "Dictionary has been created: {'ÖMER CENGİZ': [90, 95, 100], 'ŞEVVAL KOZAN': [78, 92, 89], 'SUDE NURSAL': [60, 50, 80], 'SİMAY GÜNGÖR': [67, 43, 90], 'SELİM KAYA': [80, 90, 70]}\n",
      "Highest grade: 95.0\n",
      "Congratulations! ÖMER CENGİZ\n"
     ]
    }
   ],
   "source": [
    "#Global Al Hub-Python Course-Second Homework\n",
    "gradeses = []\n",
    "students=[]\n",
    "old_list=[]\n",
    "list=[]\n",
    "info={}\n",
    "number=int(input(\"Number of students:\")) \n",
    "for i in range(number):\n",
    "    print(\"Student\",i+1)\n",
    "    student=input(\"Name and Surname:\")\n",
    "    midterm=int(input(\"midterm:\"))\n",
    "    final=int(input(\"final:\")) \n",
    "    homework=int(input(\"homework:\"))\n",
    "    average=(midterm+final+homework)/3\n",
    "    list.append(average)\n",
    "    students.append(student)\n",
    "    old_list.extend([midterm,final,homework])\n",
    "    new_list=old_list.copy()\n",
    "    old_list.clear()\n",
    "    gradeses.append(new_list)\n",
    "    info[students[i]]=gradeses[i]\n",
    "highest=max(list)\n",
    "print(\"Dictionary has been created:\",info)\n",
    "print(\"Highest grade:\",highest)\n",
    "print(\"Congratulations!\",students[list.index(highest)])"
   ]
  }
 ],
 "metadata": {
  "kernelspec": {
   "display_name": "Python 3",
   "language": "python",
   "name": "python3"
  },
  "language_info": {
   "codemirror_mode": {
    "name": "ipython",
    "version": 3
   },
   "file_extension": ".py",
   "mimetype": "text/x-python",
   "name": "python",
   "nbconvert_exporter": "python",
   "pygments_lexer": "ipython3",
   "version": "3.8.5"
  }
 },
 "nbformat": 4,
 "nbformat_minor": 4
}
