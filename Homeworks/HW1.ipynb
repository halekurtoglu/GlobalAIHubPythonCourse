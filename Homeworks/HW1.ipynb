{
 "cells": [
  {
   "cell_type": "code",
   "execution_count": 1,
   "metadata": {},
   "outputs": [
    {
     "name": "stdout",
     "output_type": "stream",
     "text": [
      "Prime numbers between 1 and 100: [2, 3, 5, 7, 11, 13, 17, 19, 23, 29, 31, 37, 41, 43, 47, 53, 59, 61, 67, 71, 73, 79, 83, 89, 97]\n",
      "19 41 79 \n",
      "53 3 53 \n",
      "19 71 43 \n"
     ]
    }
   ],
   "source": [
    "#Global Al Hub-Python Course-First Homework\n",
    "#Question:Generating a 3x3 matrix with 9 random prime numbers.\n",
    "\n",
    "import random\n",
    "primeNumbers=[]\n",
    "matrix = [] \n",
    "for number in range(1,101):\n",
    "    control=True\n",
    "    if number>1:\n",
    "        for divisor in range(2,number):\n",
    "            if number%divisor==0:\n",
    "                control=False\n",
    "                break\n",
    "        if control==True:\n",
    "            primeNumbers.append(number)\n",
    "print(\"Prime numbers between 1 and 100:\",primeNumbers)            \n",
    "for row in range(3):          \n",
    "    a =[] \n",
    "    for column in range(3):\n",
    "        randomPrime=random.choice(primeNumbers)\n",
    "        a.append(randomPrime) \n",
    "    matrix.append(a) \n",
    "for row in range(3): \n",
    "    for column in range(3): \n",
    "        print(matrix[row][column],end= \" \") \n",
    "    print() "
   ]
  },
  {
   "cell_type": "code",
   "execution_count": null,
   "metadata": {},
   "outputs": [],
   "source": []
  }
 ],
 "metadata": {
  "kernelspec": {
   "display_name": "Python 3",
   "language": "python",
   "name": "python3"
  },
  "language_info": {
   "codemirror_mode": {
    "name": "ipython",
    "version": 3
   },
   "file_extension": ".py",
   "mimetype": "text/x-python",
   "name": "python",
   "nbconvert_exporter": "python",
   "pygments_lexer": "ipython3",
   "version": "3.8.5"
  }
 },
 "nbformat": 4,
 "nbformat_minor": 4
}
